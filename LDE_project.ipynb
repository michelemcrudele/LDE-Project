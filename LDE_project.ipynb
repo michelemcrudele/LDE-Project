{
 "cells": [
  {
   "cell_type": "code",
   "execution_count": null,
   "metadata": {},
   "outputs": [],
   "source": [
    "import numpy as np   \n",
    "import math\n",
    "import matplotlib\n",
    "import matplotlib.pyplot as plt\n",
    "import networkx as nx\n",
    "from networkx.generators.atlas import *\n",
    "import random\n",
    "from utils import SIR_net, SIR_net_adaptive, SIR_net_adaptive2"
   ]
  },
  {
   "cell_type": "code",
   "execution_count": null,
   "metadata": {},
   "outputs": [],
   "source": [
    "N= 1000 #number of nodes \n",
    "p= 0.004  #edge probability\n",
    "ERG= nx.erdos_renyi_graph(N, p)\n",
    "ERG2 = nx.erdos_renyi_graph(N, 10*p)\n",
    "nx.draw(ERG2)\n",
    "len(nx.edges(ERG2))"
   ]
  },
  {
   "cell_type": "code",
   "execution_count": null,
   "metadata": {},
   "outputs": [],
   "source": [
    "b = SIR_net(ERG, 0.15, 0.1, initial_infecteds=np.arange(100))\n",
    "a = SIR_net_adaptive(ERG,ERG2, beta=0.15, mu=0.1, r=0.1, h=0.1, pro=0.1, initial_infecteds=np.arange(100), initial_no_vax = np.arange(200,400))\n",
    "\n",
    "fig,ax = plt.subplots(nrows=1,ncols=1,figsize=(7,7))\n",
    "ax.plot(a[0],a[2], label= \"con novax + rewiring\")\n",
    "ax.plot(b[0],b[2], label= \"se non ci fossero i novax :(\")\n",
    "ax.legend()\n",
    "ax.set_title(\"Rewiring + novax vs null\")\n",
    "ax.set_ylabel(\"Infects\")\n",
    "ax.set_xlabel(\"time\")"
   ]
  },
  {
   "cell_type": "markdown",
   "metadata": {},
   "source": [
    "### No Vax?"
   ]
  },
  {
   "cell_type": "code",
   "execution_count": null,
   "metadata": {},
   "outputs": [],
   "source": [
    "#dopo 20 iterazioni \n",
    "nx.draw(ERG2)\n",
    "len(nx.edges(ERG2))"
   ]
  },
  {
   "cell_type": "code",
   "execution_count": null,
   "metadata": {},
   "outputs": [],
   "source": [
    "# a fine epidemia\n",
    "\n",
    "nx.draw(ERG2)\n",
    "len(nx.edges(ERG2))"
   ]
  },
  {
   "cell_type": "markdown",
   "metadata": {},
   "source": [
    "### Tentativo di Gridsearch"
   ]
  },
  {
   "cell_type": "code",
   "execution_count": null,
   "metadata": {},
   "outputs": [],
   "source": [
    "# 600 sec circa\n",
    "\n",
    "r=np.arange(1,10)/10\n",
    "h=np.arange(1,10)/10\n",
    "\n",
    "out1 = np.zeros((len(r),len(h)))\n",
    "\n",
    "out2 = np.zeros((len(r),len(h)))\n",
    "               \n",
    "for i in range(len(r)):\n",
    "    for j in range(len(h)):\n",
    "        \n",
    "        out1[i][j] = SIR_net_adaptive2(G = ERG, NET = ERG2, beta = 0.15, mu = 0.1, pro = 0.1,\n",
    "                                      initial_infecteds=np.arange(100), initial_no_vax = np.arange(200,400),\n",
    "                                      r = r[i], h = h[j])[0]\n",
    "        \n",
    "        \n",
    "        out2[i][j] = SIR_net_adaptive2(G = ERG, NET = ERG2, beta = 0.15, mu = 0.1, pro = 0.1,\n",
    "                                      initial_infecteds=np.arange(100), initial_no_vax = np.arange(200,400),\n",
    "                                      r = r[i], h = h[j])[1]"
   ]
  },
  {
   "cell_type": "code",
   "execution_count": null,
   "metadata": {},
   "outputs": [],
   "source": [
    "a = plt.imshow( out1 , cmap = 'autumn' , interpolation = 'nearest', extent = [min(r), max(r),max(h), min(h)] )\n",
    "plt.colorbar(a)\n",
    "plt.title('Infected (beta = 0.15, mu = 0.1)', fontweight =\"bold\")\n",
    "plt.xlabel(\"Vaccination ratio\")\n",
    "plt.ylabel(\"1 / no vax infectivity\")\n",
    "plt.show()"
   ]
  },
  {
   "cell_type": "code",
   "execution_count": null,
   "metadata": {},
   "outputs": [],
   "source": [
    "b = plt.imshow( out2 , cmap = 'autumn' , interpolation = 'nearest', extent = [min(r), max(r),max(h), min(h)] )\n",
    "plt.colorbar(b)\n",
    "plt.title('Recovered (beta = 0.15, mu = 0.1)', fontweight =\"bold\")\n",
    "plt.xlabel(\"Vaccination ratio\")\n",
    "plt.ylabel(\"1 / No vax infectivity\")\n",
    "plt.show()"
   ]
  },
  {
   "cell_type": "code",
   "execution_count": null,
   "metadata": {},
   "outputs": [],
   "source": []
  }
 ],
 "metadata": {
  "kernelspec": {
   "display_name": "Python 3 (ipykernel)",
   "language": "python",
   "name": "python3"
  },
  "language_info": {
   "codemirror_mode": {
    "name": "ipython",
    "version": 3
   },
   "file_extension": ".py",
   "mimetype": "text/x-python",
   "name": "python",
   "nbconvert_exporter": "python",
   "pygments_lexer": "ipython3",
   "version": "3.9.7"
  }
 },
 "nbformat": 4,
 "nbformat_minor": 2
}
